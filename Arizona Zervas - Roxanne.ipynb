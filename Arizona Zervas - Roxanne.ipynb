{
 "cells": [
  {
   "cell_type": "code",
   "execution_count": null,
   "metadata": {},
   "outputs": [],
   "source": [
    "from ipywebrtc import CameraStream, ImageRecorder"
   ]
  },
  {
   "cell_type": "code",
   "execution_count": null,
   "metadata": {},
   "outputs": [],
   "source": [
    "#!pip install scikit-image"
   ]
  },
  {
   "cell_type": "code",
   "execution_count": null,
   "metadata": {},
   "outputs": [],
   "source": [
    "from ipywidgets import Image,HBox\n",
    "import PIL.Image\n",
    "import io\n",
    "import numpy as np\n",
    "from skimage.filters import sobel\n",
    "from skimage.color.adapt_rgb import adapt_rgb, each_channel\n",
    "from skimage import filters"
   ]
  },
  {
   "cell_type": "code",
   "execution_count": null,
   "metadata": {},
   "outputs": [],
   "source": [
    "camera = CameraStream(constraints=\n",
    "                      {'facing': 'user',\n",
    "                       'audio': True,\n",
    "                       'video': { 'width': 460, 'height': 320 }\n",
    "                       })\n",
    "camera"
   ]
  },
  {
   "cell_type": "code",
   "execution_count": null,
   "metadata": {},
   "outputs": [],
   "source": [
    "#hook up the image came with stream\n",
    "image_recorder=ImageRecorder(stream=camera)\n",
    "\n",
    "image_recorder"
   ]
  },
  {
   "cell_type": "code",
   "execution_count": null,
   "metadata": {},
   "outputs": [],
   "source": [
    "catch = Image()\n",
    "stop_record = False\n",
    "\n",
    "def process_image(_):\n",
    "    if stop_record:\n",
    "        return\n",
    "    img = PIL.Image.open(io.BytesIO(image_recorder.image.value))\n",
    "    img = np.array(img)[...,5]\n",
    "    img = adapt_rgb(each_channel)(sobel)(img)\n",
    "    img = ((1-img) * 255).astype(np.uint8)\n",
    "    img[img < 250] = 0\n",
    "    img = PIL.Image.fromarray(img)\n",
    "    f = io.BytesIO()\n",
    "    img.save(f, format='png')\n",
    "    catch.value = f.getvalue()\n",
    "    image_recorder.recording = True\n",
    "\n",
    "image_recorder.image.observe(process_image, names=['value'])\n",
    "\n",
    "HBox([catch, image_recorder])\n",
    "\n"
   ]
  },
  {
   "cell_type": "code",
   "execution_count": null,
   "metadata": {},
   "outputs": [],
   "source": [
    "stop_record=True"
   ]
  },
  {
   "cell_type": "code",
   "execution_count": null,
   "metadata": {},
   "outputs": [],
   "source": [
    "from ipywidgets import Widget\n",
    "Widget.close_all()"
   ]
  }
 ],
 "metadata": {
  "kernelspec": {
   "display_name": "Python 3",
   "language": "python",
   "name": "python3"
  },
  "language_info": {
   "codemirror_mode": {
    "name": "ipython",
    "version": 3
   },
   "file_extension": ".py",
   "mimetype": "text/x-python",
   "name": "python",
   "nbconvert_exporter": "python",
   "pygments_lexer": "ipython3",
   "version": "3.7.4"
  },
  "latex_envs": {
   "LaTeX_envs_menu_present": true,
   "autoclose": false,
   "autocomplete": true,
   "bibliofile": "biblio.bib",
   "cite_by": "apalike",
   "current_citInitial": 1,
   "eqLabelWithNumbers": true,
   "eqNumInitial": 1,
   "hotkeys": {
    "equation": "Ctrl-E",
    "itemize": "Ctrl-I"
   },
   "labels_anchors": false,
   "latex_user_defs": false,
   "report_style_numbering": false,
   "user_envs_cfg": false
  },
  "toc": {
   "base_numbering": 1,
   "nav_menu": {},
   "number_sections": true,
   "sideBar": true,
   "skip_h1_title": false,
   "title_cell": "Table of Contents",
   "title_sidebar": "Contents",
   "toc_cell": false,
   "toc_position": {},
   "toc_section_display": true,
   "toc_window_display": false
  }
 },
 "nbformat": 4,
 "nbformat_minor": 2
}
